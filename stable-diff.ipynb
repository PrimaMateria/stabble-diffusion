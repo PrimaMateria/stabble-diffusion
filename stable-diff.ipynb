{
 "cells": [
  {
   "cell_type": "code",
   "execution_count": null,
   "id": "90bc2d94-55e3-4317-8b4b-f48f01a1655b",
   "metadata": {},
   "outputs": [],
   "source": [
    "import os\n",
    "import torch\n",
    "import transformers\n",
    "\n",
    "from configparser import ConfigParser\n",
    "from torch import autocast\n",
    "from diffusers import StableDiffusionPipeline\n",
    "from PIL import Image\n",
    "from datetime import datetime\n",
    "\n",
    "parser = ConfigParser()\n",
    "_ = parser.read('stable-diff.cfg')\n",
    "HF_TOKEN = parser.get('hugging_face', 'token')\n",
    "\n",
    "def image_grid(imgs, rows, cols):\n",
    "    assert len(imgs) == rows*cols\n",
    "\n",
    "    w, h = imgs[0].size\n",
    "    grid = Image.new('RGB', size=(cols*w, rows*h))\n",
    "    grid_w, grid_h = grid.size\n",
    "    \n",
    "    for i, img in enumerate(imgs):\n",
    "        grid.paste(img, box=(i%cols*w, i//cols*h))\n",
    "    return grid\n",
    "\n",
    "pipe = StableDiffusionPipeline.from_pretrained(\n",
    "    \"CompVis/stable-diffusion-v1-4\", \n",
    "    revision=\"fp16\", \n",
    "    torch_dtype=torch.float16,\n",
    "    use_auth_token=HF_TOKEN\n",
    ")\n",
    "pipe = pipe.to(\"cuda\")\n",
    "pipe.enable_attention_slicing()\n",
    "\n",
    "num_runs = 20\n",
    "num_images = 3\n",
    "prompt = [\"A knight with a sword and shield facing an incoming avalanche of skulls, comic style, colorful, scenic, epic, detailed\"] * num_images\n",
    "\n",
    "for _ in range(num_runs):\n",
    "    with autocast(\"cuda\"):\n",
    "        images = pipe(prompt, guidance_scale=7.5, num_inference_steps=100, height=512, width=512).images\n",
    "\n",
    "    grid = image_grid(images, rows=1, cols=num_images)\n",
    "    display(grid)\n",
    "    grid.save(f\"{parser.get('general', 'out_dir')}/{datetime.now()} {prompt[0]}.png\")"
   ]
  },
  {
   "cell_type": "code",
   "execution_count": null,
   "id": "6da87691-eebd-4c5d-82c6-6ca9864b6479",
   "metadata": {},
   "outputs": [],
   "source": []
  }
 ],
 "metadata": {
  "kernelspec": {
   "display_name": "Python3 - Python-env",
   "language": "python",
   "name": "ipython_python-env"
  },
  "language_info": {
   "codemirror_mode": {
    "name": "ipython",
    "version": 3
   },
   "file_extension": ".py",
   "mimetype": "text/x-python",
   "name": "python",
   "nbconvert_exporter": "python",
   "pygments_lexer": "ipython3",
   "version": "3.10.6"
  }
 },
 "nbformat": 4,
 "nbformat_minor": 5
}
